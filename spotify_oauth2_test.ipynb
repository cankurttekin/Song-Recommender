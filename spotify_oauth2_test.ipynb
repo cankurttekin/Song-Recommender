{
 "cells": [
  {
   "cell_type": "code",
   "execution_count": null,
   "id": "3b694562",
   "metadata": {},
   "outputs": [],
   "source": [
    "import random\n",
    "import json\n",
    "import spotipy\n",
    "import spotipy.util as util\n",
    "from spotipy import oauth2\n",
    "from spotipy import Spotify as sp\n",
    "from spotipy.oauth2 import SpotifyClientCredentials"
   ]
  },
  {
   "cell_type": "code",
   "execution_count": null,
   "id": "dfdffbcc",
   "metadata": {},
   "outputs": [],
   "source": [
    "# spotify api credentials \n",
    "CLIENT_ID = 'xxx'\n",
    "CLIENT_SECRET = 'xxx'\n",
    "REDIRECT_URI = 'http://localhost:8999/callback'\n",
    "USERNAME = 'xxx'"
   ]
  },
  {
   "cell_type": "code",
   "execution_count": null,
   "id": "83881747",
   "metadata": {},
   "outputs": [],
   "source": [
    "# auth\n",
    "scope = 'user-top-read playlist-modify-public playlist-modify-private'\n",
    "token = util.prompt_for_user_token(USERNAME, scope, CLIENT_ID, CLIENT_SECRET, REDIRECT_URI)\n",
    "\n",
    "if token:\n",
    "    sp = spotipy.Spotify(token)\n",
    "    print(\"connected\")\n",
    "else:\n",
    "    print(\"connection failed\")"
   ]
  },
  {
   "cell_type": "code",
   "execution_count": null,
   "id": "4b2994d1",
   "metadata": {},
   "outputs": [],
   "source": [
    "# short_term favorite songs artist + song name\n",
    "results = sp.current_user_top_tracks(limit=15, offset=0,time_range='short_term')\n",
    "for i in range(len(results[\"items\"])):\n",
    "    print(results[\"items\"][i][\"artists\"][0][\"name\"],results[\"items\"][i][\"name\"])"
   ]
  },
  {
   "cell_type": "code",
   "execution_count": null,
   "id": "fdbad0f1",
   "metadata": {},
   "outputs": [],
   "source": []
  }
 ],
 "metadata": {
  "kernelspec": {
   "display_name": "Python 3 (ipykernel)",
   "language": "python",
   "name": "python3"
  },
  "language_info": {
   "codemirror_mode": {
    "name": "ipython",
    "version": 3
   },
   "file_extension": ".py",
   "mimetype": "text/x-python",
   "name": "python",
   "nbconvert_exporter": "python",
   "pygments_lexer": "ipython3",
   "version": "3.9.12"
  }
 },
 "nbformat": 4,
 "nbformat_minor": 5
}
